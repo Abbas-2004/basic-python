{
  "nbformat": 4,
  "nbformat_minor": 0,
  "metadata": {
    "colab": {
      "provenance": []
    },
    "kernelspec": {
      "name": "python3",
      "display_name": "Python 3"
    },
    "language_info": {
      "name": "python"
    }
  },
  "cells": [
    {
      "cell_type": "code",
      "execution_count": 1,
      "metadata": {
        "colab": {
          "base_uri": "https://localhost:8080/"
        },
        "id": "Kn8MZvEaBwNR",
        "outputId": "41f4c4ce-22f4-4975-c5ac-a7924f41d1dc"
      },
      "outputs": [
        {
          "output_type": "stream",
          "name": "stdout",
          "text": [
            "BFS: ['A', 'B', 'C', 'D', 'E', 'F']\n",
            "DFS: ['A', 'B', 'D', 'E', 'C', 'F']\n"
          ]
        }
      ],
      "source": [
        "# TASK 1: BFS and DFS on a simple graph\n",
        "\n",
        "graph = {\n",
        "    'A': ['B', 'C'],\n",
        "    'B': ['D', 'E'],\n",
        "    'C': ['F'],\n",
        "    'D': [],\n",
        "    'E': [],\n",
        "    'F': []\n",
        "}\n",
        "# BFS\n",
        "def bfs(graph, start):\n",
        "    visited = []\n",
        "    queue = [start]\n",
        "    while queue:\n",
        "        node = queue.pop(0)\n",
        "        if node not in visited:\n",
        "            visited.append(node)\n",
        "            queue.extend(graph[node])\n",
        "    return visited\n",
        "# DFS\n",
        "def dfs(graph, start, visited=None):\n",
        "    if visited is None:\n",
        "        visited = []\n",
        "    visited.append(start)\n",
        "    for neighbor in graph[start]:\n",
        "        if neighbor not in visited:\n",
        "            dfs(graph, neighbor, visited)\n",
        "    return visited\n",
        "print(\"BFS:\", bfs(graph, 'A'))\n",
        "print(\"DFS:\", dfs(graph, 'A'))\n"
      ]
    },
    {
      "cell_type": "code",
      "source": [
        "# 1. Import the Matplotlib library\n",
        "import matplotlib.pyplot as plt\n",
        "\n",
        "# 2. Create data\n",
        "X = [1, 2, 3, 4, 5]\n",
        "Y = [2, 4, 6, 8, 10]\n",
        "\n",
        "# 3. Create a line plot\n",
        "plt.plot(X, Y)\n",
        "\n",
        "# Add title and labels\n",
        "plt.title(\"Simple Line Plot\")\n",
        "plt.xlabel(\"X-axis\")\n",
        "plt.ylabel(\"Y-axis\")\n",
        "\n",
        "# Add grid lines\n",
        "plt.grid(True)\n",
        "\n",
        "# Show the plot\n",
        "plt.show()\n"
      ],
      "metadata": {
        "id": "oZ7acc5JZl09"
      },
      "execution_count": null,
      "outputs": []
    },
    {
      "cell_type": "code",
      "source": [
        "# 🧊 Water Jug Problem using BFS and DFS\n",
        "import time\n",
        "from collections import deque\n",
        "\n",
        "# Jug capacities and goal\n",
        "jug1 = 4     # 4-liter jug\n",
        "jug2 = 3     # 3-liter jug\n",
        "goal = 2     # We need to get exactly 2 liters\n",
        "\n",
        "# 👉 Function that returns all possible next moves\n",
        "def next_states(x, y):\n",
        "    return [\n",
        "        (jug1, y),  # Fill jug1 completely\n",
        "        (x, jug2),  # Fill jug2 completely\n",
        "        (0, y),     # Empty jug1\n",
        "        (x, 0),     # Empty jug2\n",
        "        # Pour water from jug1 to jug2\n",
        "        (x - min(x, jug2 - y), y + min(x, jug2 - y)),\n",
        "        # Pour water from jug2 to jug1\n",
        "        (x + min(y, jug1 - x), y - min(y, jug1 - x))\n",
        "    ]\n",
        "\n",
        "# 🌀 BFS (Breadth-First Search)\n",
        "def bfs():\n",
        "    start = time.time()          # Start timer\n",
        "    visited = set()              # To remember visited states\n",
        "    queue = deque([(0, 0)])      # Start with both jugs empty\n",
        "    steps = 0                    # Count steps\n",
        "\n",
        "    while queue:\n",
        "        x, y = queue.popleft()   # Take first state from queue\n",
        "        steps += 1\n",
        "        if (x, y) in visited:    # Skip already visited states\n",
        "            continue\n",
        "        visited.add((x, y))      # Mark this state as visited\n",
        "\n",
        "        if x == goal or y == goal:   # Check if goal reached\n",
        "            break\n",
        "\n",
        "        # Add all next possible moves to the queue\n",
        "        for state in next_states(x, y):\n",
        "            queue.append(state)\n",
        "\n",
        "    # Print results\n",
        "    print(\"\\nBFS Result:\")\n",
        "    print(\"Steps:\", steps)\n",
        "    print(\"Time:\", round(time.time() - start, 5), \"seconds\")\n",
        "    print(\"Visited States:\", len(visited))\n",
        "\n",
        "# 🧭 DFS (Depth-First Search)\n",
        "def dfs(x, y, visited, steps):\n",
        "    steps[0] += 1\n",
        "    if (x, y) in visited:\n",
        "        return False\n",
        "    visited.add((x, y))\n",
        "\n",
        "    if x == goal or y == goal:   # Goal found\n",
        "        return True\n",
        "\n",
        "    # Explore next moves one by one\n",
        "    for state in next_states(x, y):\n",
        "        if dfs(state[0], state[1], visited, steps):\n",
        "            return True\n",
        "    return False\n",
        "\n",
        "def run_dfs():\n",
        "    start = time.time()\n",
        "    visited = set()\n",
        "    steps = [0]          # List used so it can change inside dfs()\n",
        "    dfs(0, 0, visited, steps)\n",
        "\n",
        "    # Print results\n",
        "    print(\"\\nDFS Result:\")\n",
        "    print(\"Steps:\", steps[0])\n",
        "    print(\"Time:\", round(time.time() - start, 5), \"seconds\")\n",
        "    print(\"Visited States:\", len(visited))\n",
        "\n",
        "# 🧮 Run both algorithms\n",
        "bfs()\n",
        "run_dfs()\n"
      ],
      "metadata": {
        "id": "9uS9qwlhZnNh"
      },
      "execution_count": null,
      "outputs": []
    }
  ]
}