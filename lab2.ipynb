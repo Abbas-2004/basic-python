{
  "nbformat": 4,
  "nbformat_minor": 0,
  "metadata": {
    "colab": {
      "provenance": []
    },
    "kernelspec": {
      "name": "python3",
      "display_name": "Python 3"
    },
    "language_info": {
      "name": "python"
    }
  },
  "cells": [
    {
      "cell_type": "code",
      "execution_count": 16,
      "metadata": {
        "colab": {
          "base_uri": "https://localhost:8080/"
        },
        "id": "qCEmyskSBPWt",
        "outputId": "299a578d-f605-4462-e0e0-b4a55933c05e"
      },
      "outputs": [
        {
          "output_type": "stream",
          "name": "stdout",
          "text": [
            "orignal List  [10, 23, 5, 89, 45, 67, 34, 22, 11, 90]\n",
            "sum 396\n",
            "max 90\n",
            "min 5\n",
            "updated list: [10, 5, 89, 45, 67, 34, 22, 11, 90, 50]\n",
            "ascending [5, 10, 11, 22, 34, 45, 50, 67, 89, 90]\n",
            "decending [90, 89, 67, 50, 45, 34, 22, 11, 10, 5]\n",
            "second element: banana\n",
            "last element: graps\n",
            "Modified List: ['apple', 'banana', 'orang', 'mango', 'graps']\n",
            "union {4, 5}\n",
            "intersection {4, 5}\n",
            "diffrence {4, 5}\n"
          ]
        }
      ],
      "source": [
        "#create a list of 10 integer\n",
        "\n",
        "numbers = [10, 23, 5,89,45,67,34,22,11,90]\n",
        "print('orignal List ',numbers)\n",
        "\n",
        "\n",
        "#sum max, and min\n",
        "\n",
        "print('sum',sum(numbers))\n",
        "print('max',max(numbers))\n",
        "print('min',min(numbers))\n",
        "\n",
        "#add and remove element\n",
        "numbers.append(50)\n",
        "numbers.remove(23)\n",
        "print('updated list:', numbers)\n",
        "\n",
        "#sort ascending and decending\n",
        "\n",
        "print('ascending',sorted(numbers))\n",
        "print('decending',sorted(numbers, reverse=True))\n",
        "\n",
        "\n",
        "#create tuples\n",
        "\n",
        "fruits=('apple','banana','cherry','mango','graps')\n",
        "print('second element:',fruits[1])\n",
        "print('last element:',fruits[-1])\n",
        "\n",
        "\n",
        "#convert tuples into list\n",
        "\n",
        "fruit_list=list(fruits)\n",
        "fruit_list[2]='orang'\n",
        "print('Modified List:',fruit_list)\n",
        "\n",
        "\n",
        "\n",
        "#create sets\n",
        "\n",
        "set_a={1,2,3,4,5}\n",
        "set_b={4,5,6,7,8}\n",
        "\n",
        "#union, intersection,diffrence\n",
        "\n",
        "print('union',set_a & set_b)\n",
        "print('intersection',set_a & set_b)\n",
        "print('diffrence',set_a & set_b)\n",
        "\n",
        "\n",
        "\n",
        "\n"
      ]
    }
  ]
}